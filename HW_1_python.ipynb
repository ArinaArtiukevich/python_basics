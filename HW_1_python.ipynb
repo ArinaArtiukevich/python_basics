{
 "cells": [
  {
   "cell_type": "code",
   "execution_count": 5,
   "id": "88acce6c",
   "metadata": {},
   "outputs": [],
   "source": [
    "from typing import Tuple, Iterable, List, Dict, Callable, Any, Optional, Union\n",
    "import random"
   ]
  },
  {
   "cell_type": "markdown",
   "id": "8deffe2e",
   "metadata": {},
   "source": [
    "# <center>Функции</center>"
   ]
  },
  {
   "cell_type": "markdown",
   "id": "38410629",
   "metadata": {},
   "source": [
    "# 1. Метрики"
   ]
  },
  {
   "cell_type": "markdown",
   "id": "225a2c3f",
   "metadata": {},
   "source": [
    "Данное задание призвано как проверить навыки работы с функциями, так и ознакомить Вас с метриками, которые используются во время тренировки моделей Supervised Learning."
   ]
  },
  {
   "cell_type": "markdown",
   "id": "5571e6bf",
   "metadata": {},
   "source": [
    "### 1.1 Gini score"
   ]
  },
  {
   "cell_type": "markdown",
   "id": "d1b43ff5",
   "metadata": {},
   "source": [
    "Критерий Gini показывает, насколько однородным является выбранная группа, и расчитывается по следующей формуле:"
   ]
  },
  {
   "cell_type": "markdown",
   "id": "b269b41e",
   "metadata": {},
   "source": [
    "$$Gini = 1 - \\sum p_{j}^{2}$$"
   ]
  },
  {
   "cell_type": "markdown",
   "id": "fef2bc3d",
   "metadata": {},
   "source": [
    "где $p_{j}$ - это частота каждого класса в данной группе (или, иными словами, вероятность того, что случайно взятый экземпляр из этой группы принадлежит к данному классу).  \n",
    "  \n",
    "Например, у нас есть группа из 20 шариков, 10 из которых - синие, 7 - зелёные, и 3 - красные. В данном случае критерий Gini будет равен:"
   ]
  },
  {
   "cell_type": "markdown",
   "id": "8bdb5502",
   "metadata": {},
   "source": [
    "$$Gini = 1 - ((\\frac{10}{20})^{2} + (\\frac{7}{20})^{2} + (\\frac{3}{20})^{2}) = 1 - 0.395 = 0.605$$"
   ]
  },
  {
   "cell_type": "markdown",
   "id": "2003467f",
   "metadata": {},
   "source": [
    "Критерий Gini может принимать значения от 0 (абсолютно гомогенная группа, состоящая из одного класса) до 1 (максимальная неопределённость, множество классов с одинаковыми вероятностями выпадения)"
   ]
  },
  {
   "cell_type": "markdown",
   "id": "a4eca3f3",
   "metadata": {},
   "source": [
    "#### Задание: написать функцию, которая получает на вход список целых чисел, и вычисляет значение критерия Gini"
   ]
  },
  {
   "cell_type": "code",
   "execution_count": 2,
   "id": "29fee1f1",
   "metadata": {
    "scrolled": true
   },
   "outputs": [
    {
     "name": "stdout",
     "output_type": "stream",
     "text": [
      "0.611\n",
      "0.519\n",
      "0.605\n"
     ]
    }
   ],
   "source": [
    "\n",
    "def get_periodicity(items: Iterable[Union[str, float]]) -> Iterable[Union[str, float]]:  \n",
    "\n",
    "    items_list = list(items)\n",
    "    items_set = set(items)\n",
    "    \n",
    "    periodicity_items = [\n",
    "        items_list.count(item)\n",
    "        \n",
    "        for item \n",
    "        in items_set\n",
    "    ]\n",
    "    \n",
    "    return periodicity_items\n",
    "\n",
    "\n",
    "def gini_score(periodicity_items: Iterable[int]) -> float:\n",
    "    items_list = list(periodicity_items)\n",
    "    sum_items = sum(items_list)\n",
    "    \n",
    "    gini_score_value = sum(list(map(lambda x: pow(x / sum_items, 2), items_list)))\n",
    "    \n",
    "    return 1 - round(gini_score_value, 3)\n",
    "\n",
    "    \n",
    "def count_gini_score(items: Iterable[Union[str, float]]) ->  float:  \n",
    "    return round(gini_score(get_periodicity(items)), 3)\n",
    "\n",
    "    \n",
    "print(count_gini_score([1, 2, 1, 2, 0, 1]))\n",
    "print(count_gini_score([\"A\", \"A\", \"A\", \"A\", \"B\", \"A\", \"A\", \"C\", \"D\"]))\n",
    "print(count_gini_score([\"С\", \"С\", \"С\", \"З\", \"К\", \"С\", \"С\", \"С\", \"С\", \"С\", \"З\", \"З\", \"З\", \"З\", \"З\", \"З\", \"С\", \"С\", \"К\", \"К\"]))\n"
   ]
  },
  {
   "cell_type": "markdown",
   "id": "7dec4db2",
   "metadata": {},
   "source": [
    "---"
   ]
  },
  {
   "cell_type": "markdown",
   "id": "43b5e318",
   "metadata": {},
   "source": [
    "### 1.2 Entropy"
   ]
  },
  {
   "cell_type": "markdown",
   "id": "03874ec5",
   "metadata": {},
   "source": [
    "Энтропия измеряет степень неопределённости группы, и, конкретно в нашем случае, описывает количество информации, требуемое для описания распределения (distributon) в группе.  \n",
    "Формула (средней) энтропии:"
   ]
  },
  {
   "cell_type": "markdown",
   "id": "ab2bd7f8",
   "metadata": {},
   "source": [
    "$$Entropy = - \\sum p_{j}\\log p_{j}$$"
   ]
  },
  {
   "cell_type": "markdown",
   "id": "1982f925",
   "metadata": {},
   "source": [
    "как и в случае с критерием Gini, $p_{j}$ - это частота каждого класса в данной группе.  \n",
    "  \n",
    "В том же примере с шариками (группа из 20 шариков, 10 из которых - синие, 7 - зелёные, и 3 - красные), уровень энтропии будет равен:"
   ]
  },
  {
   "cell_type": "markdown",
   "id": "e32cd1da",
   "metadata": {},
   "source": [
    "$$Entropy = -\\ (\\frac{10}{20} * \\log(\\frac{10}{20}) + \\frac{7}{20} * \\log(\\frac{7}{20}) + \\frac{3}{20} * \\log(\\frac{3}{20})) = - \\ (-0.347 - 0.367 -0.285) = 0.999$$"
   ]
  },
  {
   "cell_type": "markdown",
   "id": "e36e333b",
   "metadata": {},
   "source": [
    "Энтропия может принимать значения от 0 (абсолютно гомогенная группа, состоящая из одного класса) до бесконечности (максимальная неопределённость), хотя на практике максимальное значение ограничено логарифмической функцией и достигает величины в 20-30 единиц (можете попробовать запустить её со списком из миллиона уникальных значений)."
   ]
  },
  {
   "cell_type": "markdown",
   "id": "bd9e3fd0",
   "metadata": {},
   "source": [
    "#### Задание: написать функцию, которая получает на вход список целых чисел, и вычисляет значение Энтропии"
   ]
  },
  {
   "cell_type": "code",
   "execution_count": 36,
   "id": "16874933",
   "metadata": {},
   "outputs": [
    {
     "name": "stdout",
     "output_type": "stream",
     "text": [
      "1.011\n",
      "8.517\n",
      "1.003\n",
      "0.999\n"
     ]
    }
   ],
   "source": [
    "import math\n",
    "\n",
    "def entropy_score(periodicity_items: Iterable[int]) -> float:\n",
    "    items_list = list(periodicity_items)\n",
    "    sum_items = sum(items_list)\n",
    "    \n",
    "    entropy_score_value = sum(list(map(lambda x: (x / sum_items) * math.log(x / sum_items), items_list)))\n",
    "    \n",
    "    return (-1) * round(entropy_score_value, 3)\n",
    "\n",
    "def count_entropy_score(items: Iterable[Union[str, float]]) ->  float: \n",
    "    return entropy_score(get_periodicity(items))\n",
    "\n",
    "   \n",
    "print(count_entropy_score([1, 2, 1, 2, 0, 1]))\n",
    "print(count_entropy_score(range(5_000)))\n",
    "print(count_entropy_score([\"A\", \"A\", \"A\", \"A\", \"B\", \"A\", \"A\", \"C\", \"D\"]))\n",
    "print(count_entropy_score([\"С\", \"С\", \"С\", \"С\", \"С\", \"С\", \"С\", \"С\", \"С\", \"С\", \"З\", \"З\", \"З\", \"З\", \"З\", \"З\", \"З\", \"К\", \"К\", \"К\"]))"
   ]
  },
  {
   "cell_type": "markdown",
   "id": "b46b4e56",
   "metadata": {},
   "source": [
    "---"
   ]
  },
  {
   "cell_type": "markdown",
   "id": "df6bd3cb",
   "metadata": {},
   "source": [
    "### 1.3 Mean Squared Error (MSE)"
   ]
  },
  {
   "cell_type": "markdown",
   "id": "f351c766",
   "metadata": {},
   "source": [
    "Среднеквадратичная ошибка (Mean Squared Error, MSE) - это метрика, используемая в задачах регрессии, для оценки разницы между прогнозируемыми и фактическими значениями.  \n",
    "  \n",
    "MSE измеряет среднеквадратичное отклонение прогнозируемых значений от фактических значений и вычисляется путем суммирования квадратов разностей между каждым прогнозируемым и фактическим значением, а затем деления на количество наблюдений:"
   ]
  },
  {
   "cell_type": "markdown",
   "id": "f7860092",
   "metadata": {},
   "source": [
    "$$MSE = \\sum_{i=0}^{n} \\frac{(y^{'}_{i} - y_{i})^{2}}{n}$$"
   ]
  },
  {
   "cell_type": "markdown",
   "id": "5005974a",
   "metadata": {},
   "source": [
    "где $y^{'}_{i}$ - это предсказанное значение для $i$-того элемента, $y_{i}$ - его реальное значение, $n$ - общее количество элементов.  \n",
    "  \n",
    "Очевидно, что в идеальном случае, когда все предсказания в точности равны реальным значениям, **MSE** будет равен нулю (сверху же данный показатель не ограничен)."
   ]
  },
  {
   "cell_type": "markdown",
   "id": "4f8b5401",
   "metadata": {},
   "source": [
    "В рамках этого задания мы слегка изменим эту метрику, и вместо $y^{'}_{i}$ (отдельного предсказания для каждого элемента) будем испльзовать среднее значение всех элементов в группе - $\\hat{y}$:"
   ]
  },
  {
   "cell_type": "markdown",
   "id": "11f8d178",
   "metadata": {},
   "source": [
    "$$MSE = \\sum_{i=0}^{n} \\frac{(\\hat{y} - y_{i})^{2}}{n}$$"
   ]
  },
  {
   "cell_type": "markdown",
   "id": "0c925fad",
   "metadata": {},
   "source": [
    "Пример: дана группа чисел $[-0.1, -2.0 ,  1.0 ,  1.8,  0.8]$.\n",
    "  \n",
    "Среднее значение группы:\n",
    "\n",
    "$$\\hat{y} = \\frac{-0.1-2.0+1.0+1.8+0.8}{5} = 0.3$$"
   ]
  },
  {
   "cell_type": "markdown",
   "id": "07da503f",
   "metadata": {},
   "source": [
    "Значит, среднеквадратичное отклонение будет равно:"
   ]
  },
  {
   "cell_type": "markdown",
   "id": "0671f795",
   "metadata": {},
   "source": [
    "$$MSE = \\frac{(0.3 - (-0.1))^{2} + (0.3 - (-2.0))^{2} + (0.3 - 1.0)^{2} + (0.3 - 1.8)^{2} + (0.3 - 0.8)^{2}}{5} = 1.688$$"
   ]
  },
  {
   "cell_type": "markdown",
   "id": "36bdc9e7",
   "metadata": {},
   "source": [
    "#### Задание: написать функцию, которая получает на вход список чисел, и вычисляет среднеквадратичную ошибку:"
   ]
  },
  {
   "cell_type": "code",
   "execution_count": 3,
   "id": "6bed073a",
   "metadata": {},
   "outputs": [],
   "source": [
    "def mean_value(values: list) -> float:\n",
    "    return sum(values) / len(values)\n",
    "    "
   ]
  },
  {
   "cell_type": "code",
   "execution_count": 4,
   "id": "f280f9a5",
   "metadata": {},
   "outputs": [
    {
     "data": {
      "text/plain": [
       "1.688"
      ]
     },
     "execution_count": 4,
     "metadata": {},
     "output_type": "execute_result"
    }
   ],
   "source": [
    "def mse_score(items: Iterable[Union[int, float]]) -> float:\n",
    "    items_list = list(items)\n",
    "    mean_items_value = mean_value(items)\n",
    "    \n",
    "    mse_score_value = sum(list(map(lambda x: (mean_items_value - x) ** 2, items_list)))\n",
    "    \n",
    "    return round(mse_score_value / len(items_list), 3)\n",
    "    \n",
    "mse_score([-0.1, -2.0, 1.0, 1.8, 0.8])"
   ]
  },
  {
   "cell_type": "markdown",
   "id": "dc83debb",
   "metadata": {},
   "source": [
    "---"
   ]
  },
  {
   "cell_type": "markdown",
   "id": "f143f72a",
   "metadata": {},
   "source": [
    "### 1.4 Root Mean Squared Error (RMSE)"
   ]
  },
  {
   "cell_type": "markdown",
   "id": "be4086ac",
   "metadata": {},
   "source": [
    "Корень средней квадратичной ошибки (Root Mean Squared Error, RMSE) имеет преимущество в том, что представляет величину ошибки в единице прогнозируемого столбца, что упрощает процесс интерпретации.  \n",
    "  \n",
    "Если вы пытаетесь спрогнозировать сумму в долларах, корень средней квадратичной ошибки можно интерпретировать как величину ошибки в долларах.\n",
    "  \n",
    "Аналогично предыдущему примеру, в данном задании мы будем вместо прогнозируемых значений использовать среднее группы:"
   ]
  },
  {
   "cell_type": "markdown",
   "id": "ec3ffcf3",
   "metadata": {},
   "source": [
    "$$RMSE = \\sqrt{\\sum_{i=0}^{n} \\frac{(y^{'}_{i} - y_{i})^{2}}{n}} \\longrightarrow RMSE = \\sqrt{\\sum_{i=0}^{n} \\frac{(\\hat{y} - y_{i})^{2}}{n}}$$"
   ]
  },
  {
   "cell_type": "markdown",
   "id": "d9c3115c",
   "metadata": {},
   "source": [
    "#### Задание: написать функцию, которая получает на вход список чисел, и вычисляет корень среднеквадратичной ошибки:"
   ]
  },
  {
   "cell_type": "code",
   "execution_count": 22,
   "id": "ef7b7149",
   "metadata": {},
   "outputs": [
    {
     "data": {
      "text/plain": [
       "1.299"
      ]
     },
     "execution_count": 22,
     "metadata": {},
     "output_type": "execute_result"
    }
   ],
   "source": [
    "def rmse_score(items: Iterable[Union[int, float]]) -> float:\n",
    "    return round(mse_score(items) ** (1 / 2), 3)\n",
    "\n",
    "rmse_score([-0.1, -2.0, 1.0, 1.8, 0.8])"
   ]
  },
  {
   "cell_type": "markdown",
   "id": "d371e68e",
   "metadata": {},
   "source": [
    "---"
   ]
  },
  {
   "cell_type": "markdown",
   "id": "0186283d",
   "metadata": {},
   "source": [
    "### 1.5 Mean Absolute Percentage Error (MAPE)"
   ]
  },
  {
   "cell_type": "markdown",
   "id": "12d25d53",
   "metadata": {},
   "source": [
    "Средняя процентная ошибка (МАРЕ) измеряет отклонение фактических значений от прогнозируемых значений в процентах.  \n",
    "  \n",
    "MAPE часто используется в бизнесе и экономике для оценки точности прогнозирования, особенно при прогнозировании спроса на товары или услуги.  \n",
    "  \n",
    "Преимущество данной метрики в том, что она позволяет сравнивать эффективность моделей, натренированных на данных различного масштаба.  \n",
    "  \n",
    "Формула для расчёта MAPE:"
   ]
  },
  {
   "cell_type": "markdown",
   "id": "cfc88a21",
   "metadata": {},
   "source": [
    "$$MAPE = \\frac{100}{n} * \\sum{\\mid \\frac{y^{'}_{i} - y_{i}}{y_{i}} \\mid}$$"
   ]
  },
  {
   "cell_type": "markdown",
   "id": "a813bc80",
   "metadata": {},
   "source": [
    "Поскольку реальное значение $y_{i}$ может быть равен нулю, то для избежания деления на ноль в некоторых случаях в знаменатель добавляется ничтожно малое число $\\varepsilon$ (оно должно быть существенно ниже имеющихся реальных значений):"
   ]
  },
  {
   "cell_type": "markdown",
   "id": "925dc4d3",
   "metadata": {},
   "source": [
    "$$MAPE = \\frac{100}{n} * \\sum{\\mid \\frac{y^{'}_{i} - y_{i}}{y_{i}} \\mid} \\ \\longrightarrow \\ MAPE = \\frac{100}{n} * \\sum{ \\frac{\\mid y^{'}_{i} - y_{i}\\mid}{\\mid y_{i} \\mid + \\varepsilon}}$$"
   ]
  },
  {
   "cell_type": "markdown",
   "id": "7a886662",
   "metadata": {},
   "source": [
    "Другой способ избежать деление на ноль - это просто убрать из расчёта экземпляры, где реальное значение равно нулю (ибо для них применение этой метрики не имеет смысла)"
   ]
  },
  {
   "cell_type": "markdown",
   "id": "bbe25e5a",
   "metadata": {},
   "source": [
    "Аналогично предыдущему примеру, в данном задании мы будем вместо прогнозируемых значений использовать среднее группы:"
   ]
  },
  {
   "cell_type": "markdown",
   "id": "0c78f0a0",
   "metadata": {},
   "source": [
    "$$MAPE = \\frac{100}{n} * \\sum{ \\frac{\\mid \\hat{y} - y_{i}\\mid}{\\mid y_{i} \\mid + \\varepsilon}}$$"
   ]
  },
  {
   "cell_type": "markdown",
   "id": "120649aa",
   "metadata": {},
   "source": [
    "#### Задание: написать функцию, которая получает на вход список чисел, и вычисляет MAPE:"
   ]
  },
  {
   "cell_type": "code",
   "execution_count": 104,
   "id": "05ed159f",
   "metadata": {},
   "outputs": [
    {
     "data": {
      "text/plain": [
       "115.394"
      ]
     },
     "execution_count": 104,
     "metadata": {},
     "output_type": "execute_result"
    }
   ],
   "source": [
    "def mape_score(items: Iterable[Union[int, float]]) -> float:\n",
    "    items_list = list(items)\n",
    "    mean_items_value = mean_value(items)\n",
    "    \n",
    "    items_filtered = list(filter(lambda x: x != 0, items_list))\n",
    "    \n",
    "    mape_score_value = sum(list(map(lambda x: abs(mean_items_value - x) / abs(x), items_filtered)))\n",
    "    \n",
    "    return round((100 / len(items_list)) * mape_score_value,  3)\n",
    "                          \n",
    "mape_score([-0.1, -2.0, 1.0, 0, 1.8, 0.8])"
   ]
  },
  {
   "cell_type": "markdown",
   "id": "c189cc96",
   "metadata": {},
   "source": [
    "---"
   ]
  },
  {
   "cell_type": "markdown",
   "id": "1af98db3",
   "metadata": {},
   "source": [
    "# 2. Взвешенная оценка"
   ]
  },
  {
   "cell_type": "markdown",
   "id": "56676598",
   "metadata": {},
   "source": [
    "В некоторых ситуациях нам надо расчитать среднее взвешанное значение заданной метрики для нескольких групп. Слово *взвешенное* подразумевает, что вклад каждой группы в финальное значение пропорционален количеству элементов в ней.\n",
    "  \n",
    "Например: у нас есть две группы `A: [1, 1, 2, 1, 3, 2]` и `B: [3, 3, 2]`. Задача - расчитать взвешенное значение критерия Gini:"
   ]
  },
  {
   "cell_type": "markdown",
   "id": "26c43bf5",
   "metadata": {},
   "source": [
    "$$Gini_{total} = \\frac{N_{A}}{N_{A} + N_{B}}Gini_{A} + \\frac{N_{B}}{N_{A} + N_{B}}Gini_{B} = \\frac{6}{9}*0.611 + \\frac{3}{9}*0.444 = 0.556$$"
   ]
  },
  {
   "cell_type": "markdown",
   "id": "10a8c7a5",
   "metadata": {},
   "source": [
    "#### Задание: написать функцию, которая получает на вход функцию метрики и несколько списоков чисел, и вычисляет взвешенное значение переданной метрики:"
   ]
  },
  {
   "cell_type": "code",
   "execution_count": 29,
   "id": "5a0a4ef1",
   "metadata": {},
   "outputs": [
    {
     "data": {
      "text/plain": [
       "0.555"
      ]
     },
     "execution_count": 29,
     "metadata": {},
     "output_type": "execute_result"
    }
   ],
   "source": [
    "def weighted_metric_score(metric: Callable, *items: Iterable) -> float:  \n",
    "    a = list(items[0])\n",
    "    b = list(items[1])\n",
    "    \n",
    "    n_a = len(a)\n",
    "    n_b = len(b)\n",
    "    sum_n = n_a + n_b\n",
    "    return round((n_a / sum_n) * metric(a) + (n_b / sum_n) * metric(b),3)\n",
    "    \n",
    "weighted_metric_score(count_gini_score, [1, 1, 2, 1, 3, 2], [3, 3, 2])"
   ]
  },
  {
   "cell_type": "markdown",
   "id": "f7e4ad5c",
   "metadata": {},
   "source": [
    "---"
   ]
  },
  {
   "cell_type": "markdown",
   "id": "25eef683",
   "metadata": {},
   "source": [
    "# 3. Разделенение группы"
   ]
  },
  {
   "cell_type": "markdown",
   "id": "70d4700f",
   "metadata": {},
   "source": [
    "### 3.1 Деление группы на две"
   ]
  },
  {
   "cell_type": "markdown",
   "id": "60a16b4b",
   "metadata": {},
   "source": [
    "Легче всего описать это задание с вводных данных:  \n",
    "  \n",
    "Есть два списка: один - вспомогательный (`features, F`), состоящий из чисел, второй - основной (`targets, T`), при этом их элементы связаны попарно:"
   ]
  },
  {
   "cell_type": "markdown",
   "id": "4b7c112f",
   "metadata": {},
   "source": [
    "$$F_{i} \\leftrightarrow T_{i}$$"
   ]
  },
  {
   "cell_type": "markdown",
   "id": "cbc9241d",
   "metadata": {},
   "source": [
    "Нам даётся число из вспомогательной группы `F`. Наша задача - разделить основную и вспомогательную группы так на две подгруппы так, чтобы все элементы $\\color{red}{первой}$ вспомогательной подгруппы были бы меньше или равны данному числу, а все элемены $\\color{blue}{второй}$ вспомогательной подгруппы - больше этого числа.\n",
    "  \n",
    "Например: нам данны следующие основная и вспомогательная группы:"
   ]
  },
  {
   "cell_type": "markdown",
   "id": "679627d6",
   "metadata": {},
   "source": [
    "$$\n",
    "T = [1, 1, 2, 2, 1, 1, 2, 1, 3, 1, 3, 4, 1]  \\\\\n",
    "F = [3, 1, 9, 9, 1, 5, 2, 1, 7, 1, 3, 4, 9]\n",
    "$$"
   ]
  },
  {
   "cell_type": "markdown",
   "id": "bd2bf365",
   "metadata": {},
   "source": [
    "Допустим, из вспомогательного списка выбрано число `5`. Таким образом, эти списки будут разделены следующим образом:"
   ]
  },
  {
   "cell_type": "markdown",
   "id": "2ca85a31",
   "metadata": {},
   "source": [
    "$$\n",
    "T = [\\color{red}{1}, \\color{red}{1}, \\color{blue}{2}, \\color{blue}{2}, \\color{red}{1}, \\color{red}{1}, \\color{red}{2}, \\color{red}{1}, \\color{blue}{3}, \\color{red}{1}, \\color{red}{3}, \\color{red}{4}, \\color{blue}{1}] \\rightarrow [\\color{red}{1,1,1,1,2,1,1,3,4}] \\ , \\ [\\color{blue}{2,2,3,1}] \\\\\n",
    "F = [\\color{red}{3}, \\color{red}{1}, \\color{blue}{9}, \\color{blue}{9}, \\color{red}{1}, \\color{red}{5}, \\color{red}{2}, \\color{red}{1}, \\color{blue}{7}, \\color{red}{1}, \\color{red}{3}, \\color{red}{4}, \\color{blue}{9}] \\rightarrow [\\color{red}{3,1,1,5,2,1,1,3,4}] \\ , \\ [\\color{blue}{9,9,7,9}]\n",
    "$$"
   ]
  },
  {
   "cell_type": "markdown",
   "id": "2b343a91",
   "metadata": {},
   "source": [
    "#### Задание: написать функцию, которая получает на вход основной список `targets`, вспомогательный список `features` и \"делитель\" `split_value` и возвращает результат разбиения основного списка `sub_targets_1`, `sub_targets_2`:"
   ]
  },
  {
   "cell_type": "code",
   "execution_count": 30,
   "id": "0744ee33",
   "metadata": {},
   "outputs": [
    {
     "name": "stdout",
     "output_type": "stream",
     "text": [
      "([1, 1, 1, 1, 2, 1, 1, 3, 4], [2, 2, 3, 1])\n"
     ]
    }
   ],
   "source": [
    "def split_target_by_feature(targets: Iterable, features: Iterable, split_value: Union[int, float]) -> Tuple[Iterable, Iterable]:\n",
    "    sub_targets_1 = []\n",
    "    sub_targets_2 = []\n",
    "    \n",
    "    features_list = list(features)\n",
    "    targets_list = list(targets)\n",
    "    \n",
    "    for i, feature in enumerate(features_list):\n",
    "        if feature <= split_value:\n",
    "            sub_targets_1.append(targets_list[i])\n",
    "        else: \n",
    "            sub_targets_2.append(targets_list[i])\n",
    "            \n",
    "    return (sub_targets_1, sub_targets_2)\n",
    "\n",
    "print(split_target_by_feature([1,1,2,2,1,1,2,1,3,1,3,4,1], [3,1,9,9,1,5,2,1,7,1,3,4,9], 5))\n",
    "        "
   ]
  },
  {
   "cell_type": "markdown",
   "id": "bfaa97cb",
   "metadata": {},
   "source": [
    "---"
   ]
  },
  {
   "cell_type": "markdown",
   "id": "ac9154cf",
   "metadata": {},
   "source": [
    "### 3.2 Поиск оптимального \"делителя\""
   ]
  },
  {
   "cell_type": "markdown",
   "id": "209c7d3f",
   "metadata": {},
   "source": [
    "Следующий шаг - поиск оптимального \"делителя\", который позволит получить таке две подгруппы основного списка `targets`, взвешенная оценка которых для указанной метрики будет минимальна.  \n",
    "  \n",
    "Используя предыдущий пример, оценим вариант двух разбиений:  \n",
    "первый, когда \"делитель\" равен 5:"
   ]
  },
  {
   "cell_type": "markdown",
   "id": "43da45f6",
   "metadata": {},
   "source": [
    "$$\n",
    "T = [\\color{red}{1}, \\color{red}{1}, \\color{blue}{2}, \\color{blue}{2}, \\color{red}{1}, \\color{red}{1}, \\color{red}{2}, \\color{red}{1}, \\color{blue}{3}, \\color{red}{1}, \\color{red}{3}, \\color{red}{4}, \\color{blue}{1}] \\rightarrow [\\color{red}{1,1,1,1,3,1,1,3,4}] \\ , \\ [\\color{blue}{2,2,3,1}] \\\\\n",
    "F = [\\color{red}{3}, \\color{red}{1}, \\color{blue}{9}, \\color{blue}{9}, \\color{red}{1}, \\color{red}{5}, \\color{red}{2}, \\color{red}{1}, \\color{blue}{7}, \\color{red}{1}, \\color{red}{3}, \\color{red}{4}, \\color{blue}{9}] \\rightarrow [\\color{red}{3,1,1,5,2,1,1,3,4}] \\ , \\ [\\color{blue}{9,9,7,9}]\n",
    "$$"
   ]
  },
  {
   "cell_type": "markdown",
   "id": "acb2d4fd",
   "metadata": {},
   "source": [
    "второй - когда \"делитель\" равен 3:"
   ]
  },
  {
   "cell_type": "markdown",
   "id": "2a5575a3",
   "metadata": {},
   "source": [
    "$$\n",
    "T = [\\color{red}{1}, \\color{red}{1}, \\color{blue}{2}, \\color{blue}{2}, \\color{red}{1}, \\color{blue}{1}, \\color{red}{2}, \\color{red}{1}, \\color{blue}{3}, \\color{red}{1}, \\color{red}{3}, \\color{blue}{4}, \\color{blue}{1}] \\rightarrow [\\color{red}{1,1,1,3,1,1,3}] \\ , \\ [\\color{blue}{2,2,1,3,1,4}] \\\\\n",
    "F = [\\color{red}{3}, \\color{red}{1}, \\color{blue}{9}, \\color{blue}{9}, \\color{red}{1}, \\color{blue}{5}, \\color{red}{2}, \\color{red}{1}, \\color{blue}{7}, \\color{red}{1}, \\color{red}{3}, \\color{blue}{4}, \\color{blue}{9}] \\rightarrow [\\color{red}{3,1,1,2,1,1,3}] \\ , \\ [\\color{blue}{9,9,5,7,9,4}]\n",
    "$$"
   ]
  },
  {
   "cell_type": "markdown",
   "id": "b19689b8",
   "metadata": {},
   "source": [
    "Допустим, что в качестве метрики выбрана этнропия.  \n",
    "  \n",
    "В таком случае, взвешенная оценка в первом варианте будет равна:"
   ]
  },
  {
   "cell_type": "markdown",
   "id": "63b38834",
   "metadata": {},
   "source": [
    "$$\n",
    "Entropy_{total} = \\frac{9}{13} * Entropy([1,1,1,1,2,1,1,3,4]) + \\frac{4}{13} * Entropy([2,2,3,1]) = 0.694 + 0.320 = 1.014\n",
    "$$"
   ]
  },
  {
   "cell_type": "markdown",
   "id": "41d6287e",
   "metadata": {},
   "source": [
    "А во втором варианте:"
   ]
  },
  {
   "cell_type": "markdown",
   "id": "8cf2e007",
   "metadata": {},
   "source": [
    "$$\n",
    "Entropy_{total} = \\frac{7}{13} * Entropy([1,1,1,2,1,1,3]) + \\frac{6}{13} * Entropy([2,2,1,3,1,4]) = 0.429 + 0.614 = 1.043\n",
    "$$"
   ]
  },
  {
   "cell_type": "markdown",
   "id": "575dfd44",
   "metadata": {},
   "source": [
    "Таким образом, `5` даёт меньшее значение взвешенной метрики по сравнению с `3`."
   ]
  },
  {
   "cell_type": "markdown",
   "id": "a3bf115d",
   "metadata": {},
   "source": [
    "#### Задание: написать функцию, которая получает на вход функцию метрики `score_func`, основной список `targets`, вспомогательный список `features` и возвращает оптимальное значение \"делителя\":"
   ]
  },
  {
   "cell_type": "code",
   "execution_count": 58,
   "id": "5dc8e67c",
   "metadata": {},
   "outputs": [
    {
     "name": "stdout",
     "output_type": "stream",
     "text": [
      "1\n",
      "2\n",
      "1\n"
     ]
    }
   ],
   "source": [
    "def find_best_split_and_metric_value(score_func: Callable, targets: Iterable, features: Iterable) -> Tuple[Union[int, float], float]:\n",
    "    targets_list = list(targets)\n",
    "    features_list = list(features)\n",
    "    \n",
    "    unique_features = set(features) \n",
    "    \n",
    "    for i, split_value in enumerate(unique_features):\n",
    "\n",
    "        tuple_targets = split_target_by_feature(targets_list, features_list, split_value)\n",
    "        weighted_metric = weighted_metric_score(score_func, tuple_targets[0], tuple_targets[1])\n",
    "\n",
    "        if i == 0 or optimal_weighted_metric > weighted_metric:\n",
    "            optimal_split_value = split_value\n",
    "            optimal_weighted_metric = weighted_metric\n",
    "\n",
    "    return (optimal_split_value, optimal_weighted_metric)\n",
    "    \n",
    "\n",
    "def find_best_split_value(score_func: Callable, targets: Iterable, features: Iterable) -> Union[int, float]:\n",
    "    return find_best_split_and_metric_value(score_func, targets, features)[0]\n",
    "    \n",
    "    \n",
    "print(find_best_split_value(count_entropy_score, [1,1,2,2,1,1,2,1,3,1,3,4,1], [3,1,9,9,1,5,2,1,7,1,3,4,9]))\n",
    "print(find_best_split_value(count_entropy_score, [1,1,2,2,1,1,2,1,3,1,3,4,1], [3,3,2,2,2,2,2,2,7,1,3,4,9]))\n",
    "print(find_best_split_value(count_entropy_score, [1,1,2,2,1,1,2,1,3,1,3,4,1], [0,1,2,3,0,2,3,1,2,2,3,0,0]))"
   ]
  },
  {
   "cell_type": "markdown",
   "id": "7e5538ee",
   "metadata": {},
   "source": [
    "---"
   ]
  },
  {
   "cell_type": "markdown",
   "id": "b8b4d8b2",
   "metadata": {},
   "source": [
    "### 3.3 Выбор оптимального вспомогательного списка"
   ]
  },
  {
   "cell_type": "markdown",
   "id": "0ade83dd",
   "metadata": {},
   "source": [
    "Расширим вводные данные: теперь помимо основного списка `targets`, нам даётся не один, а несколько вспомогательных списков `features` `F1`, `F2` ... `Fn`."
   ]
  },
  {
   "cell_type": "markdown",
   "id": "4db6a6e3",
   "metadata": {},
   "source": [
    "#### Задание: написать функцию, которая получает на вход функцию метрики `score_func`, основной список `targets`, группу вспомогательных списков`options` `F1`, `F2` ... `Fn` и возвращает индекс выбранного вспомогательного списка и оптимальное значение \"делителя\":"
   ]
  },
  {
   "cell_type": "code",
   "execution_count": 59,
   "id": "8e365f05",
   "metadata": {},
   "outputs": [
    {
     "name": "stdout",
     "output_type": "stream",
     "text": [
      "([0, 3], 1)\n"
     ]
    }
   ],
   "source": [
    "def find_best_split_value(score_func: Callable, targets: Iterable, options: List[Iterable]) -> Tuple[Iterable, Union[int, float]]:\n",
    "\n",
    "    targets_list = list(targets)\n",
    "    options_features_list = [list(option) for option in options]\n",
    "    \n",
    "    indexes = []\n",
    "    \n",
    "    for i, features in enumerate(options_features_list):\n",
    "        \n",
    "        split_metric_value = find_best_split_and_metric_value(score_func, targets, features)\n",
    "        split_value = split_metric_value[0]\n",
    "        weighted_metric = split_metric_value[1]\n",
    "        \n",
    "        if i == 0:\n",
    "            indexes.append(i)\n",
    "            optimal_split_value = split_value\n",
    "            optimal_weighted_metric = weighted_metric\n",
    "            \n",
    "        elif optimal_weighted_metric > weighted_metric: \n",
    "            indexes = []\n",
    "            indexes.append(i)\n",
    "            optimal_split_value = split_value\n",
    "            optimal_weighted_metric = weighted_metric\n",
    "            \n",
    "        elif optimal_weighted_metric == weighted_metric: \n",
    "            indexes.append(i)\n",
    "            \n",
    "    return (indexes, optimal_split_value)\n",
    "    \n",
    "    \n",
    "print(find_best_split_value(count_entropy_score, [1,1,2,2,1,1,2,1,3,1,3,4,1],[[0,1,2,3,0,2,3,1,2,2,3,0,0],\n",
    "                                                                              [3,3,2,2,2,2,2,2,7,1,3,4,9],\n",
    "                                                                              [3,1,9,9,1,5,2,1,7,1,3,4,9],\n",
    "                                                                              [0,1,2,3,0,2,3,1,2,2,3,0,0],\n",
    "                                                                              [3,1,9,9,1,5,2,1,7,1,3,4,9]]))"
   ]
  },
  {
   "cell_type": "markdown",
   "id": "6f7bdb6e",
   "metadata": {},
   "source": [
    "---"
   ]
  },
  {
   "cell_type": "markdown",
   "id": "7eb69f15",
   "metadata": {},
   "source": [
    "# <center>Классы</center>"
   ]
  },
  {
   "cell_type": "markdown",
   "id": "884d64a1",
   "metadata": {},
   "source": [
    "# 4. Узел (Node)"
   ]
  },
  {
   "cell_type": "markdown",
   "id": "e0bbd5c4",
   "metadata": {},
   "source": [
    "#### Задание: напишите класс `Node`\n",
    "  \n",
    "Он должен иметь следующие атрибуты:\n",
    "- **id**       : int - **уникальный** номер для каждого экземпляра этого класса\n",
    "- **values**   : Iterable - значения, хранимые в данном узле\n",
    "- **parent**   : Optional `Node`- \"родительский\" узел, из которого был создан данный экземпляр (по умолчанию = None)\n",
    "- **children** : Optional List `[Node]` - узлы, образованные из данного экземпляра (по умолчанию = None)  \n",
    "  \n",
    "Также он должен обладать следующими методами:\n",
    "- **is_root** -> bool : проверяет, является ли данный узел \"корневым\" (т.е. имеется у него \"родитель\" или нет)\n",
    "- **is_leaf** -> bool : проверяет, является ли данный узел терминальным (т.е. имеется у него \"дети\" или нет)"
   ]
  },
  {
   "cell_type": "code",
   "execution_count": 10,
   "id": "19b995a2",
   "metadata": {},
   "outputs": [
    {
     "name": "stdout",
     "output_type": "stream",
     "text": [
      "\n",
      " uid: 855, values: [0], parent: None, children: [[1], [3], [1], [3], [5]]\n",
      "\n",
      "Node child can have only one parent. Caused by \n",
      " uid: 382, values: [6], parent: None, children: [[2]]\n",
      "\n"
     ]
    }
   ],
   "source": [
    "class NodeException(Exception):\n",
    "\n",
    "    def __init__(self, message: str, node: Node):\n",
    "        self.message = message\n",
    "        self.node = node\n",
    "\n",
    "    def __str__(self):\n",
    "        return self.message + str(self.node)\n",
    "\n",
    "\n",
    "\n",
    "class Node:\n",
    "    def __init__(self, \n",
    "                 values: Iterable, \n",
    "                 parent: Optional[\"Node\"] = None, \n",
    "                 children: Optional[List[\"Node\"]] = None):\n",
    "\n",
    "        self.uid = Node.generate_uid()\n",
    "        self.values = values\n",
    "        self.parent = parent\n",
    "        self.children = children \n",
    "        \n",
    "        if parent is not None:\n",
    "            if parent.children is None:\n",
    "                parent.children = []\n",
    "            parent.children.append(self)\n",
    "        \n",
    "        if children is not None:\n",
    "            self.add_children(children)\n",
    "         \n",
    "    def __str__(self):\n",
    "        return f\"\\n uid: {self.uid}, values: {self.values}, parent: {self.parent if self.parent is None else self.parent.values}, children: {[item.values for item in self.children]}\\n\"\n",
    "     \n",
    "        \n",
    "    @classmethod\n",
    "    def generate_uid(cls):\n",
    "        return random.randint(int(1e2), int(1e3) - 1)\n",
    "    \n",
    "    def is_root(self):\n",
    "        return self.parent is None\n",
    "    \n",
    "    def is_leaf(self):\n",
    "        return self.children is None\n",
    "\n",
    "    def add_children(self, children: List[\"Node\"]):\n",
    "        for child in children:\n",
    "            if child.parent is None:\n",
    "                child.parent = self\n",
    "                if self.children is None:\n",
    "                    self.children = []\n",
    "                self.children.append(child)\n",
    "            elif child.parent != self:\n",
    "                raise NodeException(\"Node child can have only one parent. Caused by \", self)\n",
    "        return self\n",
    "    \n",
    "#         leaf_6 (exception)-> leaf_2               \n",
    "# root -> leaf_1 -> leaf_2 -> leaf_4\n",
    "#      -> leaf_3\n",
    "#      -> leaf_5\n",
    "\n",
    "try :\n",
    "    leaf_1 = Node(values = [1])\n",
    "    leaf_2 = Node(values = [2], parent = leaf_1)\n",
    "    leaf_3 = Node(values = [3])\n",
    "\n",
    "    root = Node(values = [0], children = [leaf_1, leaf_3])\n",
    "\n",
    "    leaf_4 = Node(values = [4])\n",
    "    leaf_2.add_children([leaf_4])\n",
    "\n",
    "    leaf_5 = Node(values = [5], parent = root)\n",
    "    print(root)\n",
    "    \n",
    "    leaf_6 = Node(values = [6], children = [leaf_2])\n",
    "    \n",
    "except NodeException as exception: \n",
    "    print(exception)"
   ]
  },
  {
   "cell_type": "markdown",
   "id": "a54c3b99",
   "metadata": {},
   "source": [
    "# 5. Условие (Condition) и Группа условий (Conditions Group)"
   ]
  },
  {
   "cell_type": "markdown",
   "id": "6c6b53d3",
   "metadata": {},
   "source": [
    "#### Задание: напишите классы `Condition` и `ConditionsGroup`\n",
    "\n",
    "**Condition** представляет собой описание следующего правила: `признак Х` - `меньше или равно | больше` - `значение`  \n",
    "  \n",
    "Таким образом, этот класс должен обладать соответствующими атрибутами:\n",
    "- **feature** : str|int\n",
    "- **greater** : bool\n",
    "- **value**   : int|float\n",
    "\n",
    "**ConditionsGroup** должен сохранять список разных условий и иметь атрибут **conditions**"
   ]
  },
  {
   "cell_type": "markdown",
   "id": "5d02e2f0",
   "metadata": {},
   "source": [
    "<div class=\"alert alert-info\">\n",
    "    <center><strong>Задание на 10 баллов</strong></center>\n",
    "</div>"
   ]
  },
  {
   "cell_type": "markdown",
   "id": "5594af8d",
   "metadata": {},
   "source": [
    "Реализуйте операцию объединения экземпляров классов **Condition** и **ConditionsGroup** следующим образом:\n",
    "- Если объединяются два экземпляра класса **Condition** и у обоих одинаковые атрибуты `feature` и `greater`, то объединение должно возвращать новый экземпляр **Condition** с тем значением атрибута `value`, который соответсвует логике"
   ]
  },
  {
   "cell_type": "code",
   "execution_count": null,
   "id": "dcbc0f6d",
   "metadata": {},
   "outputs": [],
   "source": [
    "c1 = Condition(feature=\"рост\", greater=False, value=180)\n",
    "c2 = Condition(feature=\"рост\", greater=False, value=160)\n",
    "\n",
    "c1 + c2 -> Condition(feature=\"рост\", greater=False, value=160)"
   ]
  },
  {
   "cell_type": "markdown",
   "id": "aafd99f1",
   "metadata": {},
   "source": [
    "\n",
    "- В любом другом случае должен возвращаться новый экземпляр **ConditionsGroup**, и, если при этом между элементами этого экземпляра возможно произвести объединение первого типа - то это нужно сделать (таким образом, не будет нескольких элементов с одинаковыми `feature` и `greater`)"
   ]
  },
  {
   "cell_type": "code",
   "execution_count": null,
   "id": "add54d63",
   "metadata": {},
   "outputs": [],
   "source": [
    "c1 = Condition(feature=\"рост\", greater=False, value=180)\n",
    "c2 = Condition(feature=\"рост\", greater=True, value=160)\n",
    "\n",
    "cg_1 = c1 + c2\n",
    "cg_1 -> ConditionsGroup(Condition(feature=\"рост\", greater=False, value=180),\n",
    "                        Condition(feature=\"рост\", greater=True, value=160))"
   ]
  },
  {
   "cell_type": "code",
   "execution_count": 6,
   "id": "aaa7323b",
   "metadata": {},
   "outputs": [
    {
     "name": "stdout",
     "output_type": "stream",
     "text": [
      "ch_sum1 + ch3 = ch_sum2 = \n",
      "ConditionsGroup:\n",
      " feature: рост, greater: False, value: 160\n",
      " \n",
      " feature: рост, greater: True, value: 150\n",
      "\n",
      "cw_sum1 + ch4 = cw_sum2 = \n",
      "ConditionsGroup:\n",
      " feature: вес, greater: True, value: 180\n",
      " \n",
      " feature: вес, greater: False, value: 160\n",
      " \n",
      " feature: рост, greater: True, value: 200\n",
      "\n",
      "cw_sum2 + ch_sum2 = c_sum\n",
      "ConditionsGroup:\n",
      " feature: рост, greater: False, value: 160\n",
      " \n",
      " feature: рост, greater: True, value: 200\n",
      " \n",
      " feature: вес, greater: True, value: 180\n",
      " \n",
      " feature: вес, greater: False, value: 160\n",
      "\n"
     ]
    }
   ],
   "source": [
    "class Condition:\n",
    "    \n",
    "    def __init__(self, \n",
    "                 feature: Union[str, int], \n",
    "                 greater: bool, \n",
    "                 value: Union[int, float]):\n",
    "        \n",
    "        self.feature = feature\n",
    "        self.greater = greater\n",
    "        self.value = value\n",
    "    \n",
    "                 \n",
    "    def __add__(self, condition: \"Condition\") -> Union[\"Condition\", \"ConditionsGroup\"]:\n",
    "        result = Condition.match_conditions(self, condition)\n",
    "        if result is None:\n",
    "            result = ConditionsGroup()\n",
    "            result.add_condition(self)\n",
    "            result.add_condition(condition)\n",
    "        return result\n",
    "    \n",
    "    @classmethod \n",
    "    def match_conditions(cls, first_condition: \"Condition\", second_condition: \"Condition\") -> Optional[\"Condition\"]:\n",
    "        result = None\n",
    "        if first_condition.feature == second_condition.feature and first_condition.greater == second_condition.greater:\n",
    "            if first_condition.greater == second_condition.greater == True:\n",
    "                result_value = first_condition.value if first_condition.value > second_condition.value else second_condition.value\n",
    "            else:\n",
    "                result_value = first_condition.value if first_condition.value <= second_condition.value else second_condition.value\n",
    "            result = Condition(feature = first_condition.feature, greater = first_condition.greater, value = result_value)     \n",
    "        return result\n",
    "    \n",
    "    \n",
    "    def __str__(self):\n",
    "        return f\"\\n feature: {self.feature}, greater: {self.greater}, value: {self.value}\\n\"\n",
    "\n",
    "    \n",
    "class ConditionsGroup:\n",
    "    \n",
    "    def __init__(self):\n",
    "        self.conditions = []\n",
    "        \n",
    "    def __add__(self, input_var: Union[Condition, \"ConditionsGroup\"]) -> \"ConditionsGroup\":\n",
    "        result = None\n",
    "        if isinstance(input_var, Condition):\n",
    "            result = ConditionsGroup.create_and_add_condition(self, input_var)\n",
    "        elif isinstance(input_var, ConditionsGroup): \n",
    "            result = input_var\n",
    "            if input_var.conditions:\n",
    "                for condition in self.conditions:\n",
    "                    new_group = ConditionsGroup.create_and_add_condition(result, condition)\n",
    "                    result = new_group\n",
    "        \n",
    "        return result\n",
    "             \n",
    "    def __str__(self):\n",
    "        return \"ConditionsGroup:\" + ' '.join(str(item) for item in self.conditions)\n",
    "        \n",
    "    def add_condition(self, new_condition: Condition) -> bool:\n",
    "        is_matched = False\n",
    "        \n",
    "        if self.conditions:\n",
    "            for condition in self.conditions:\n",
    "                if Condition.match_conditions(condition, new_condition) is not None:\n",
    "                    is_matched = True\n",
    "                    \n",
    "        if not is_matched:\n",
    "            self.conditions.append(new_condition)\n",
    "            \n",
    "        return not is_matched\n",
    "            \n",
    "    @classmethod\n",
    "    def create_and_add_condition(cls, group:\"ConditionsGroup\", new_condition: Condition) -> \"ConditionsGroup\":\n",
    "        modified_group = ConditionsGroup()\n",
    "        \n",
    "        is_matched = False\n",
    "        \n",
    "        if group.conditions:\n",
    "            for condition in group.conditions:\n",
    "                match = Condition.match_conditions(condition, new_condition)\n",
    "                if match is not None:\n",
    "                    is_matched = True\n",
    "                    modified_group.conditions.append(match)\n",
    "                else: \n",
    "                    modified_group.conditions.append(condition)\n",
    "                    \n",
    "                    \n",
    "        if not is_matched:\n",
    "            modified_group.conditions.append(new_condition)\n",
    "            \n",
    "        return modified_group\n",
    "        \n",
    "ch1 = Condition(feature=\"рост\", greater=False, value=180)\n",
    "ch2 = Condition(feature=\"рост\", greater=False, value=160)  \n",
    "ch3 = Condition(feature=\"рост\", greater=True, value=150)  \n",
    "\n",
    "cw1 = Condition(feature=\"вес\", greater=True, value=180)\n",
    "cw2 = Condition(feature=\"вес\", greater=False, value=160) \n",
    "\n",
    "ch4 = Condition(feature=\"рост\", greater=True, value=200)\n",
    "\n",
    "ch_sum1 = ch1 + ch2\n",
    "ch_sum2 = ch_sum1 + ch3\n",
    "\n",
    "cw_sum1 = cw1 + cw2\n",
    "cw_sum2 = cw_sum1 + ch4\n",
    "\n",
    "c_sum = cw_sum2 + ch_sum2\n",
    "\n",
    "# print(\"ch1 + ch2 = ch_sum1 = \")\n",
    "# print(ch_sum1)\n",
    "print(\"ch_sum1 + ch3 = ch_sum2 = \")\n",
    "print(ch_sum2)\n",
    "# print(\"cw1 + cw2 = cw_sum1 = \")\n",
    "# print(cw_sum1)\n",
    "print(\"cw_sum1 + ch4 = cw_sum2 = \")\n",
    "print(cw_sum2)\n",
    "\n",
    "print(\"cw_sum2 + ch_sum2 = c_sum\")\n",
    "print(c_sum)\n",
    "        \n",
    "                 \n",
    "                 "
   ]
  },
  {
   "cell_type": "markdown",
   "id": "1dfda0ea",
   "metadata": {},
   "source": [
    "---"
   ]
  },
  {
   "cell_type": "markdown",
   "id": "edd83bb7",
   "metadata": {},
   "source": [
    "<center><h1>Удачи!</h1></center>"
   ]
  }
 ],
 "metadata": {
  "kernelspec": {
   "display_name": "Python 3 (ipykernel)",
   "language": "python",
   "name": "python3"
  },
  "language_info": {
   "codemirror_mode": {
    "name": "ipython",
    "version": 3
   },
   "file_extension": ".py",
   "mimetype": "text/x-python",
   "name": "python",
   "nbconvert_exporter": "python",
   "pygments_lexer": "ipython3",
   "version": "3.10.9"
  }
 },
 "nbformat": 4,
 "nbformat_minor": 5
}
